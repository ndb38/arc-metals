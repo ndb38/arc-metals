version https://git-lfs.github.com/spec/v1
oid sha256:413d1911e1882d850925e659dbd1f3d896fd2e61cc90fb931ef7445370aebebd
size 11612309
