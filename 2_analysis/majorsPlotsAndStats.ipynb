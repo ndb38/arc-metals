version https://git-lfs.github.com/spec/v1
oid sha256:ce9821c099c74f196798ae3bdc639be72adf0ce9520c4610da2edf63f81f4dcf
size 11070521
